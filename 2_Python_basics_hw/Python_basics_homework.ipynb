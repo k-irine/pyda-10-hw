{
 "cells": [
  {
   "cell_type": "markdown",
   "metadata": {},
   "source": [
    "# Домашняя работа по теме «Основы Python»"
   ]
  },
  {
   "cell_type": "markdown",
   "metadata": {},
   "source": [
    "**Задание 1**. Даны 2 строки: *long_phrase* и *short_phrase*. Напишите код, который проверяет действительно ли длинная фраза *long_phrase* длиннее короткой *short_phrase*. И выводит *True* или *False* в зависимости от результата сравнения."
   ]
  },
  {
   "cell_type": "code",
   "execution_count": 4,
   "metadata": {
    "scrolled": true
   },
   "outputs": [
    {
     "data": {
      "text/plain": [
       "True"
      ]
     },
     "execution_count": 4,
     "metadata": {},
     "output_type": "execute_result"
    }
   ],
   "source": [
    "long_phrase = 'Насколько сильно проще было бы писать программы, если бы не заказчики'\n",
    "short_phrase = '640Кб должно хватить для любых задач. Билл Гейтс (по легенде)'\n",
    "\n",
    "len(long_phrase) > len(short_phrase)"
   ]
  },
  {
   "cell_type": "markdown",
   "metadata": {},
   "source": [
    "**Задание 2**. Дано значение объема файла в байтах (в мегабайте *2^20 байт*). Напишите перевод этого значения в мегабайты в формате: \"Объем файла равен 213.68Mb\"."
   ]
  },
  {
   "cell_type": "code",
   "execution_count": 5,
   "metadata": {},
   "outputs": [
    {
     "name": "stdout",
     "output_type": "stream",
     "text": [
      "Введите объём файла в байтах 2358235986\n",
      "Объём файла равен  2248.989091873169 Mb\n"
     ]
    }
   ],
   "source": [
    "byte_size = int(input('Введите объём файла в байтах '))\n",
    "\n",
    "megabyte_size = byte_size/(2**20)\n",
    "print ('Объём файла равен ', megabyte_size, 'Mb')"
   ]
  },
  {
   "cell_type": "markdown",
   "metadata": {},
   "source": [
    "**Задание 3**. Разработать приложение для определения знака зодиака по дате рождения. "
   ]
  },
  {
   "cell_type": "code",
   "execution_count": 6,
   "metadata": {},
   "outputs": [
    {
     "name": "stdout",
     "output_type": "stream",
     "text": [
      "Введите месяц: март\n",
      "Введите число: 4\n",
      "Знак зодиака - Рыбы\n"
     ]
    }
   ],
   "source": [
    "month = str.lower(input('Введите месяц: '))\n",
    "day = int(input('Введите число: '))\n",
    "\n",
    "if month == 'март' and 21 <= day <= 31 or month =='апрель' and 1 <= day <= 20 :\n",
    "    print ('Знак зодиака - Овен')\n",
    "elif month == 'апрель' and 21 <= day <= 30 or month =='май' and 1 <= day <= 20 :\n",
    "    print ('Знак зодиака - Телец')\n",
    "elif month == 'май' and 21 <= day <= 31 or month =='июнь' and 1 <= day <= 21 :\n",
    "    print ('Знак зодиака - Близнецы')\n",
    "elif month == 'июнь' and 22 <= day <= 30 or month =='июль' and 1 <= day <= 22 :\n",
    "    print ('Знак зодиака - Рак')\n",
    "elif month == 'июль' and 23 <= day <= 31 or month =='август' and 1 <= day <= 23 :\n",
    "    print ('Знак зодиака - Лев')\n",
    "elif month == 'август' and 24 <= day <= 31 or month =='сентябрь' and 1 <= day <= 23 :\n",
    "    print ('Знак зодиака - Дева')\n",
    "elif month == 'сентябрь' and 24 <= day <= 30 or month =='октябрь' and 1 <= day <= 23 :\n",
    "    print ('Знак зодиака - Весы')\n",
    "elif month == 'октябрь' and 24 <= day <= 31 or month =='ноябрь' and 1 <= day <= 22 :\n",
    "    print ('Знак зодиака - Скорпион')\n",
    "elif month == 'ноябрь' and 23 <= day <= 30 or month =='декабрь' and 1 <= day <= 21 :\n",
    "    print ('Знак зодиака - Стрелец')\n",
    "elif month == 'декабрь' and 22 <= day <= 31 or month =='январь' and 1 <= day <= 20 :\n",
    "    print ('Знак зодиака - Козерог')\n",
    "elif month == 'январь' and 21 <= day <= 31 or month =='февраль' and 1 <= day <= 18 :\n",
    "    print ('Знак зодиака - Водолей')\n",
    "else:\n",
    "    print ('Знак зодиака - Рыбы')"
   ]
  },
  {
   "cell_type": "markdown",
   "metadata": {},
   "source": [
    "\n",
    "**Задание 4**. Нужно разработать приложение для финансового планирования. Приложение учитывает сколько уходит на ипотеку, \"на жизнь\" и сколько нужно отложить на пенсию. Пользователь вводит:\n",
    "\n",
    "* заработанную плату в месяц.\n",
    "* сколько процентов от ЗП уходит на ипотеку.\n",
    "* сколько процентов от ЗП уходит \"на жизнь\".\n",
    "* сколько раз приходит премия в год.\n",
    "Остальная часть заработанной платы откладывается на пенсию.\n",
    "\n",
    "Также пользователю приходит премия в размере зарплаты, от которой половина уходит на отпуск, а вторая половина откладывается.\n",
    "\n",
    "Программа должна учитывать сколько премий было в год.\n",
    "\n",
    "Нужно вывести сколько денег тратит пользователь на ипотеку и сколько он накопит за год."
   ]
  },
  {
   "cell_type": "code",
   "execution_count": 2,
   "metadata": {},
   "outputs": [
    {
     "name": "stdout",
     "output_type": "stream",
     "text": [
      "Введите заработную плату за месяц: 100000\n",
      "Сколько процентов от з/п уходит на ипотеку: 30\n",
      "Сколько процентов от з/п уходит \"на жизнь\": 50\n",
      "Какой средний размер вашей премии? 15000\n",
      "Сколько раз в год платят премию? 2\n",
      "На ипотеку потрачено  360000.0 рублей\n",
      "Всего накоплено  270000.0 рублей\n"
     ]
    }
   ],
   "source": [
    "#я решила добавить запрос среднего размера премии, так как не у всех она равна заработной плате\n",
    "\n",
    "salary = int(input('Введите заработную плату за месяц: '))\n",
    "mortgage_percentage = int(input('Сколько процентов от з/п уходит на ипотеку: '))\n",
    "living_expenses_percentage = int(input('Сколько процентов от з/п уходит \"на жизнь\": '))\n",
    "bonus_ampount = int(input('Какой средний размер вашей премии? '))\n",
    "bonus_frequency = int(input('Сколько раз в год платят премию? '))\n",
    "\n",
    "mortgage_fee = salary * (mortgage_percentage/100)\n",
    "yearly_mortgage_fee = mortgage_fee*12\n",
    "livig_expenses = salary * (living_expenses_percentage/100)\n",
    "accumulation = (salary - mortgage_fee - livig_expenses)*12 + bonus_ampount*bonus_frequency\n",
    "\n",
    "print ('На ипотеку потрачено ', yearly_mortgage_fee, 'рублей' )\n",
    "print ('Всего накоплено ', accumulation, 'рублей' )\n",
    "\n",
    "#для проверки расчёта я использовала следующие данные:\n",
    "#заработная плата: 100.000 рублей\n",
    "#процент от з/п на ипотеку: 30%, то есть 30.000 рублей в месяц или 360.000 рублей за год\n",
    "#процент от з/п на жизнь: 50%, то есть 50.000 рублей в месяц или 600.000 рублей за год\n",
    "#средний размер премии: 15.000 рублей\n",
    "#в год премию платят 2 раза\n",
    "#Итого ипотека: расходы на ипотеку за год должны получиться 360.000 рублей. \n",
    "#Итого накоплено: (з/п - расходы на ипотеку - расходы на жизнь)*12 + средняя премия*частота премии.\n",
    "#Получается: (100.000 - 30.000 - 50.000)*12 + 15.000*2 = 20.000*12 + 15.000*2 = 240.000 + 30.000 = 270.000 рублей\n"
   ]
  },
  {
   "cell_type": "code",
   "execution_count": null,
   "metadata": {},
   "outputs": [],
   "source": []
  }
 ],
 "metadata": {
  "kernelspec": {
   "display_name": "Python 3",
   "language": "python",
   "name": "python3"
  },
  "language_info": {
   "codemirror_mode": {
    "name": "ipython",
    "version": 3
   },
   "file_extension": ".py",
   "mimetype": "text/x-python",
   "name": "python",
   "nbconvert_exporter": "python",
   "pygments_lexer": "ipython3",
   "version": "3.7.6"
  }
 },
 "nbformat": 4,
 "nbformat_minor": 4
}
