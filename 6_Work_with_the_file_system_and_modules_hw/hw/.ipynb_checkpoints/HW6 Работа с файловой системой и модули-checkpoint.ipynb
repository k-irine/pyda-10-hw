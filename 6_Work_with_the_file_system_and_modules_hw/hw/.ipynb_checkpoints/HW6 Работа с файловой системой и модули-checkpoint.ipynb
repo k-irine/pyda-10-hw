{
 "cells": [
  {
   "cell_type": "markdown",
   "metadata": {},
   "source": [
    "### Домашнее задание"
   ]
  },
  {
   "cell_type": "markdown",
   "metadata": {},
   "source": [
    "Переведите содержимое файла purchase_log.txt в словарь purchases вида: {‘1840e0b9d4’: ‘Продукты’, …}\n",
    "\n",
    "Для каждого user_id в файле visit_log.csv определите третий столбец с категорией покупки (если покупка была, сам файл visit_log.csv изменять не надо). Запишите в файл funnel.csv визиты из файла visit_log.csv, в которых были покупки с указанием категории. \n",
    "\n",
    "Учтите условия на данные: содержимое purchase_log.txt помещается в оперативную память компьютера содержимое visit_log.csv - нет; используйте только построчную обработку этого файла"
   ]
  },
  {
   "cell_type": "code",
   "execution_count": 1,
   "metadata": {},
   "outputs": [],
   "source": [
    "import json"
   ]
  },
  {
   "cell_type": "code",
   "execution_count": 2,
   "metadata": {},
   "outputs": [],
   "source": [
    "purchases = {}\n",
    "with open('purchase_log.txt', encoding= 'UTF-8') as f:\n",
    "    for line in f:\n",
    "        dict_1 = json.loads(line)\n",
    "        purchases.setdefault(dict_1['user_id'],dict_1['category'])\n",
    "    #print(dict_1, type(dict_1))\n",
    "    #нашла .setdefault, вроде выглядит красиво и коротко. Надеюсь, его можно использовать\n"
   ]
  },
  {
   "cell_type": "code",
   "execution_count": 3,
   "metadata": {},
   "outputs": [],
   "source": [
    "with open('visit_log.csv', 'r', encoding='UTF-8') as f_visit_log:\n",
    "    with open('funnel.csv', 'w', encoding='UTF-8') as f_funnel:\n",
    "        for visit_log_line in f_visit_log:\n",
    "            visit_log_line_ = visit_log_line.strip().split(',')\n",
    "            if visit_log_line_[0] in purchases:\n",
    "                f_funnel.write(f'{visit_log_line_[0]}, {visit_log_line_[1]}, {purchases[visit_log_line_[0]]}\\n')\n",
    "\n",
    "f_visit_log.close()\n",
    "f_funnel.close()"
   ]
  },
  {
   "cell_type": "code",
   "execution_count": null,
   "metadata": {},
   "outputs": [],
   "source": []
  }
 ],
 "metadata": {
  "kernelspec": {
   "display_name": "Python 3",
   "language": "python",
   "name": "python3"
  },
  "language_info": {
   "codemirror_mode": {
    "name": "ipython",
    "version": 3
   },
   "file_extension": ".py",
   "mimetype": "text/x-python",
   "name": "python",
   "nbconvert_exporter": "python",
   "pygments_lexer": "ipython3",
   "version": "3.7.6"
  }
 },
 "nbformat": 4,
 "nbformat_minor": 4
}
