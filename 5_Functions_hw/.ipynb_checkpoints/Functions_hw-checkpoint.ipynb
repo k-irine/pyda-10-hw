{
 "cells": [
  {
   "cell_type": "markdown",
   "metadata": {},
   "source": [
    "## Домашнее задание к лекции \"Функции\""
   ]
  },
  {
   "cell_type": "markdown",
   "metadata": {},
   "source": [
    "Вам нужно помочь секретарю автоматизировать работу. Для этого нужно написать программу, которая будет на основе хранимых данных исполнять пользовательские команды."
   ]
  },
  {
   "cell_type": "markdown",
   "metadata": {},
   "source": [
    "Исходные данные имеют следующую структуру:"
   ]
  },
  {
   "cell_type": "markdown",
   "metadata": {},
   "source": [
    "#### Перечень всех документов"
   ]
  },
  {
   "cell_type": "code",
   "execution_count": 1,
   "metadata": {},
   "outputs": [],
   "source": [
    "documents = [\n",
    " {'type': 'passport', 'number': '2207 876234', 'name': 'Василий Гупкин'},\n",
    " {'type': 'invoice', 'number': '11-2', 'name': 'Геннадий Покемонов'},\n",
    " {'type': 'insurance', 'number': '10006', 'name': 'Аристарх Павлов'}\n",
    "]"
   ]
  },
  {
   "cell_type": "markdown",
   "metadata": {},
   "source": [
    "#### Перечень полок, на которых хранятся документы (если документ есть в documents, то он обязательно должен быть и в directories)"
   ]
  },
  {
   "cell_type": "code",
   "execution_count": 2,
   "metadata": {},
   "outputs": [],
   "source": [
    "directories = {\n",
    " '1': ['2207 876234', '11-2'],\n",
    " '2': ['10006'],\n",
    " '3': []\n",
    "}"
   ]
  },
  {
   "cell_type": "markdown",
   "metadata": {},
   "source": [
    "Общие требования к программе:\n",
    "\n",
    "* код должен быть грамотно декомпозирован (каждая функция отвечает за свою конкретную задачу, дублирующийся функционал переиспользуется, а его код не повторяется);\n",
    "* в коде отсутствуют глобальные переменные (за исключением documents и directories);\n",
    "* пользовательский ввод обрабатывается в цикле while до тех пор, пока пользователь явно не завершит программу (вводом команды \"q\")."
   ]
  },
  {
   "cell_type": "markdown",
   "metadata": {},
   "source": [
    "## Задание 1"
   ]
  },
  {
   "cell_type": "markdown",
   "metadata": {},
   "source": [
    "#### Пункт 1. Пользователь по команде \"p\" может узнать владельца документа по его номеру"
   ]
  },
  {
   "cell_type": "markdown",
   "metadata": {},
   "source": [
    "Примеры работы:\n",
    "\n",
    "1.\n",
    "Введите команду:\n",
    "p\n",
    "\n",
    "Введите номер документа:\n",
    "10006\n",
    "Результат:\n",
    "Владелец документа: Аристарх Павлов\n",
    "\n",
    "2.\n",
    "\n",
    "Введите команду:\n",
    "p\n",
    "\n",
    "Введите номер документа:\n",
    "12345\n",
    "Результат:\n",
    "Документ не найден в базе"
   ]
  },
  {
   "cell_type": "code",
   "execution_count": 3,
   "metadata": {},
   "outputs": [],
   "source": [
    "def p():\n",
    "    doc_number = input('Введите номер документа: ')\n",
    "    for personal_docs in documents:\n",
    "        if doc_number in personal_docs['number']:\n",
    "            print (f'Владелец документа: {personal_docs[\"name\"]}')\n",
    "            break\n",
    "    else:    \n",
    "        print ('Документ не найден в базе')"
   ]
  },
  {
   "cell_type": "code",
   "execution_count": 4,
   "metadata": {},
   "outputs": [
    {
     "name": "stdout",
     "output_type": "stream",
     "text": [
      "Введите номер документа: 1006\n",
      "Документ не найден в базе\n"
     ]
    }
   ],
   "source": [
    "p()"
   ]
  },
  {
   "cell_type": "markdown",
   "metadata": {},
   "source": [
    "#### Пункт 2. Пользователь по команде \"s\" может по номеру документа узнать на какой полке он хранится"
   ]
  },
  {
   "cell_type": "markdown",
   "metadata": {},
   "source": [
    "Примеры работы:\n",
    "\n",
    "1.\n",
    "\n",
    "Введите команду:\n",
    "s\n",
    "\n",
    "Введите номер документа:\n",
    "10006\n",
    "Результат:\n",
    "Документ хранится на полке: 2\n",
    "\n",
    "2.\n",
    "\n",
    "Введите команду:\n",
    "p\n",
    "\n",
    "Введите номер документа:\n",
    "12345\n",
    "Результат:\n",
    "Документ не найден в базе"
   ]
  },
  {
   "cell_type": "code",
   "execution_count": 5,
   "metadata": {},
   "outputs": [],
   "source": [
    "def s():\n",
    "    doc_number = input('Введите номер документа: ')\n",
    "    for key, personal_docs in directories.items():\n",
    "        if doc_number in personal_docs:\n",
    "            print (f'Документ хранится на полке: {key}')\n",
    "            break\n",
    "    else:    \n",
    "        print ('Документ не найден в базе')"
   ]
  },
  {
   "cell_type": "code",
   "execution_count": 6,
   "metadata": {},
   "outputs": [
    {
     "name": "stdout",
     "output_type": "stream",
     "text": [
      "Введите номер документа: 10006\n",
      "Документ хранится на полке: 2\n"
     ]
    }
   ],
   "source": [
    "s()"
   ]
  },
  {
   "cell_type": "markdown",
   "metadata": {},
   "source": [
    "#### Пункт 3. Пользователь по команде \"l\" может увидеть полную информацию по всем документам"
   ]
  },
  {
   "cell_type": "markdown",
   "metadata": {},
   "source": [
    "Пример работы:\n",
    "\n",
    "Введите команду:\n",
    "l\n",
    "Результат:\n",
    "\n",
    "№: 2207 876234, тип: passport, владелец: Василий Гупкин, полка хранения: 1\n",
    "№: 11-2, тип: invoice, владелец: Геннадий Покемонов, полка хранения: 1\n",
    "№: 10006, тип: insurance, владелец: Аристарх Павлов, полка хранения: 2"
   ]
  },
  {
   "cell_type": "code",
   "execution_count": 7,
   "metadata": {},
   "outputs": [],
   "source": [
    "def l():\n",
    "    for personal_docs in documents:\n",
    "        print(f\"Номер документа: {personal_docs['number']}, тип: {personal_docs['type']}, владелец: {personal_docs['name']}\")"
   ]
  },
  {
   "cell_type": "code",
   "execution_count": 8,
   "metadata": {},
   "outputs": [
    {
     "name": "stdout",
     "output_type": "stream",
     "text": [
      "Номер документа: 2207 876234, тип: passport, владелец: Василий Гупкин\n",
      "Номер документа: 11-2, тип: invoice, владелец: Геннадий Покемонов\n",
      "Номер документа: 10006, тип: insurance, владелец: Аристарх Павлов\n"
     ]
    }
   ],
   "source": [
    "l()"
   ]
  },
  {
   "cell_type": "markdown",
   "metadata": {},
   "source": [
    "#### Пункт 4. Пользователь по команде \"as\" может добавить новую полку"
   ]
  },
  {
   "cell_type": "markdown",
   "metadata": {},
   "source": [
    "Примеры работы:\n",
    "\n",
    "1.\n",
    "\n",
    "Введите команду:\n",
    "as\n",
    "\n",
    "Введите номер полки:\n",
    "10\n",
    "Результат:\n",
    "Полка добавлена. Текущий перечень полок: 1, 2, 3, 10.\n",
    "\n",
    "2.\n",
    "\n",
    "Введите команду:\n",
    "as\n",
    "\n",
    "Введите номер полки:\n",
    "1\n",
    "Результат:\n",
    "Такая полка уже существует. Текущий перечень полок: 1, 2, 3."
   ]
  },
  {
   "cell_type": "code",
   "execution_count": 9,
   "metadata": {},
   "outputs": [],
   "source": [
    "#назвала функцию zs, так как as у меня считает за продолжение формулы и не понимает, что происходит\n",
    "def zs():\n",
    "    shelf_number = input('Введите номер полки: ')\n",
    "    directories_list = list(directories)\n",
    "    if shelf_number not in directories:\n",
    "        directories[shelf_number] = []\n",
    "        directories_list+=shelf_number\n",
    "        print(f'Полка добавлена. Текущий перечень полок: {directories_list}')\n",
    "    else:\n",
    "        print(f'Такая полка уже существует. Текущий перечень полок: {directories_list}')\n"
   ]
  },
  {
   "cell_type": "code",
   "execution_count": 10,
   "metadata": {},
   "outputs": [
    {
     "name": "stdout",
     "output_type": "stream",
     "text": [
      "Введите номер полки: 4\n",
      "Полка добавлена. Текущий перечень полок: ['1', '2', '3', '4']\n"
     ]
    }
   ],
   "source": [
    "zs()"
   ]
  },
  {
   "cell_type": "markdown",
   "metadata": {},
   "source": [
    "#### Пункт 5. Пользователь по команде \"ds\" может удалить существующую полку из данных (только если она пустая)"
   ]
  },
  {
   "cell_type": "markdown",
   "metadata": {},
   "source": [
    "Примеры работы:\n",
    "\n",
    "1.\n",
    "\n",
    "Введите команду:\n",
    "ds\n",
    "\n",
    "Введите номер полки:\n",
    "3\n",
    "Результат:\n",
    "Полка удалена. Текущий перечень полок: 1, 2.\n",
    "\n",
    "2.\n",
    "\n",
    "Введите команду:\n",
    "ds\n",
    "\n",
    "Введите номер полки:\n",
    "1\n",
    "Результат:\n",
    "На полке есть документа, удалите их перед удалением полки. Текущий перечень полок: 1, 2, 3.\n",
    "\n",
    "3.\n",
    "\n",
    "Введите команду:\n",
    "ds\n",
    "\n",
    "Введите номер полки:\n",
    "4\n",
    "Результат:\n",
    "Такой полки не существует. Текущий перечень полок: 1, 2, 3."
   ]
  },
  {
   "cell_type": "code",
   "execution_count": 11,
   "metadata": {},
   "outputs": [],
   "source": [
    "def ds():\n",
    "    shelf_number = input('Введите номер полки: ')\n",
    "    directories_list = list(directories)\n",
    "    values_list = list(directories.values())\n",
    "    #print(directories_list)\n",
    "    #print(values_list)\n",
    "    #print(directories.items())\n",
    "    #print(directories.values())\n",
    "    \n",
    "    \n",
    "    if shelf_number in directories_list:\n",
    "        number = int(shelf_number)-1\n",
    "        #print(number)\n",
    "        #print(len(values_list[number]))\n",
    "        if len(values_list[number])==0:\n",
    "            directories_list.remove(shelf_number)\n",
    "            print(f'Полка удалена. Текущий перечень полок: {directories_list}')\n",
    "        else:\n",
    "            print(f'На полке есть документы, которые нужно удалить. Текущий перечень полок: {directories_list}')\n",
    "    else:\n",
    "        print(f'Данной полки не существует. Текущий перечень полок: {directories_list}')"
   ]
  },
  {
   "cell_type": "code",
   "execution_count": 12,
   "metadata": {},
   "outputs": [
    {
     "name": "stdout",
     "output_type": "stream",
     "text": [
      "Введите номер полки: 4\n",
      "Полка удалена. Текущий перечень полок: ['1', '2', '3']\n"
     ]
    }
   ],
   "source": [
    "ds()"
   ]
  },
  {
   "cell_type": "code",
   "execution_count": 13,
   "metadata": {},
   "outputs": [],
   "source": [
    "def main():\n",
    "    while True:\n",
    "        user_input = input('Введите команду: ')\n",
    "        if user_input == 'p':\n",
    "            p()\n",
    "        elif user_input == 's':\n",
    "            s()\n",
    "        elif user_input == 'l':\n",
    "            l()\n",
    "        elif user_input == 'zs':\n",
    "            zs()\n",
    "        elif user_input == 'ds':\n",
    "            ds()\n",
    "        elif user_input == 'q':\n",
    "            break"
   ]
  },
  {
   "cell_type": "code",
   "execution_count": 14,
   "metadata": {},
   "outputs": [
    {
     "name": "stdout",
     "output_type": "stream",
     "text": [
      "Введите команду: p\n",
      "Введите номер документа: 10006\n",
      "Владелец документа: Аристарх Павлов\n",
      "Введите команду: l\n",
      "Номер документа: 2207 876234, тип: passport, владелец: Василий Гупкин\n",
      "Номер документа: 11-2, тип: invoice, владелец: Геннадий Покемонов\n",
      "Номер документа: 10006, тип: insurance, владелец: Аристарх Павлов\n",
      "Введите команду: q\n"
     ]
    }
   ],
   "source": [
    "main()"
   ]
  },
  {
   "cell_type": "code",
   "execution_count": null,
   "metadata": {},
   "outputs": [],
   "source": []
  }
 ],
 "metadata": {
  "kernelspec": {
   "display_name": "Python 3",
   "language": "python",
   "name": "python3"
  },
  "language_info": {
   "codemirror_mode": {
    "name": "ipython",
    "version": 3
   },
   "file_extension": ".py",
   "mimetype": "text/x-python",
   "name": "python",
   "nbconvert_exporter": "python",
   "pygments_lexer": "ipython3",
   "version": "3.7.6"
  }
 },
 "nbformat": 4,
 "nbformat_minor": 4
}
