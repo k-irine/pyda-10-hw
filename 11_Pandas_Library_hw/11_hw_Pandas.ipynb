{
 "cells": [
  {
   "cell_type": "markdown",
   "metadata": {},
   "source": [
    "#### Домашнее задание «Библиотека Pandas»"
   ]
  },
  {
   "cell_type": "markdown",
   "metadata": {},
   "source": [
    "#### Задание 1\n",
    "Скачайте с сайта https://grouplens.org/datasets/movielens/ датасет любого размера. Определите какому фильму было выставлено больше всего оценок 5.0."
   ]
  },
  {
   "cell_type": "code",
   "execution_count": 1,
   "metadata": {},
   "outputs": [],
   "source": [
    "import pandas as pd"
   ]
  },
  {
   "cell_type": "code",
   "execution_count": 2,
   "metadata": {},
   "outputs": [
    {
     "data": {
      "text/plain": [
       "Shawshank Redemption, The (1994)                   153\n",
       "Pulp Fiction (1994)                                123\n",
       "Forrest Gump (1994)                                116\n",
       "Matrix, The (1999)                                 109\n",
       "Star Wars: Episode IV - A New Hope (1977)          104\n",
       "                                                  ... \n",
       "Horrible Bosses 2 (2014)                             1\n",
       "L.A. Slasher (2015)                                  1\n",
       "Beloved (1998)                                       1\n",
       "Ghost and Mrs. Muir, The (1947)                      1\n",
       "Police Academy 2: Their First Assignment (1985)      1\n",
       "Name: title, Length: 2954, dtype: int64"
      ]
     },
     "execution_count": 2,
     "metadata": {},
     "output_type": "execute_result"
    }
   ],
   "source": [
    "#по ссылке очень много нескачиваемых архивов.\n",
    "\n",
    "ratings = pd.read_csv('ratings.csv')\n",
    "movies = pd.read_csv('movies.csv')\n",
    "#ratings.head(3)\n",
    "#movies.head(3)\n",
    "full_data = ratings.merge(movies, on='movieId')\n",
    "#full_data.head(4)\n",
    "filtered_by_rating = full_data[(full_data['rating'] == 5.0)]\n",
    "filtered_by_rating.head(4)\n",
    "filtered_by_rating['title'].value_counts()\n",
    "\n"
   ]
  },
  {
   "cell_type": "markdown",
   "metadata": {},
   "source": [
    "#### Задание 2\n",
    "По данным файла power.csv посчитайте суммарное потребление стран Прибалтики (Латвия, Литва и Эстония) категорий 4, 12 и 21 за период с 2005 по 2010 года. Не учитывайте в расчетах отрицательные значения quantity."
   ]
  },
  {
   "cell_type": "code",
   "execution_count": 3,
   "metadata": {},
   "outputs": [
    {
     "name": "stdout",
     "output_type": "stream",
     "text": [
      "Суммарное потребление стран Прибалтики: 240580.0\n"
     ]
    }
   ],
   "source": [
    "power_data = pd.read_csv('power.csv')\n",
    "#power_data.head(5)\n",
    "filtered_by_countries = power_data[ (power_data['country']=='Latvia') | (power_data['country']=='Lithuania') | (power_data['country']=='Estonia')]\n",
    "#filtered_by_countries.head(5)\n",
    "filtered_by_categories = filtered_by_countries[ (filtered_by_countries['category']== 4) | (filtered_by_countries['category']== 12) | (filtered_by_countries['category']== 21)]\n",
    "#filtered_by_categories.head(5)\n",
    "filtered_by_year = filtered_by_categories[ (filtered_by_categories['year']>= 2005) & (filtered_by_categories['year']<= 2010)]\n",
    "#filtered_by_year.head(5)\n",
    "filtered_by_quantity = filtered_by_year[(filtered_by_year['quantity'] > 0)]\n",
    "#filtered_by_quantity.head(5)\n",
    "sum_power = filtered_by_quantity['quantity'].sum()\n",
    "print(f'Суммарное потребление стран Прибалтики: {sum_power}')"
   ]
  },
  {
   "cell_type": "markdown",
   "metadata": {},
   "source": [
    "#### Задание 3\n",
    "Выберите страницу любого сайта с табличными данными. Импортируйте таблицы в pandas dataframe.\n",
    "Примеры страниц (необязательно брать именно эти):\n",
    "https://fortrader.org/quotes\n",
    "https://www.finanz.ru/valyuty/v-realnom-vremeni"
   ]
  },
  {
   "cell_type": "code",
   "execution_count": 4,
   "metadata": {},
   "outputs": [
    {
     "data": {
      "text/html": [
       "<div>\n",
       "<style scoped>\n",
       "    .dataframe tbody tr th:only-of-type {\n",
       "        vertical-align: middle;\n",
       "    }\n",
       "\n",
       "    .dataframe tbody tr th {\n",
       "        vertical-align: top;\n",
       "    }\n",
       "\n",
       "    .dataframe thead th {\n",
       "        text-align: right;\n",
       "    }\n",
       "</style>\n",
       "<table border=\"1\" class=\"dataframe\">\n",
       "  <thead>\n",
       "    <tr style=\"text-align: right;\">\n",
       "      <th></th>\n",
       "      <th>Откуда</th>\n",
       "      <th>Куда</th>\n",
       "      <th>Цена</th>\n",
       "      <th>Сроки</th>\n",
       "    </tr>\n",
       "  </thead>\n",
       "  <tbody>\n",
       "    <tr>\n",
       "      <th>0</th>\n",
       "      <td>Москва</td>\n",
       "      <td>Самара</td>\n",
       "      <td>182,50 ₽</td>\n",
       "      <td>3 дня</td>\n",
       "    </tr>\n",
       "    <tr>\n",
       "      <th>1</th>\n",
       "      <td>Москва</td>\n",
       "      <td>Чита</td>\n",
       "      <td>342,50 ₽</td>\n",
       "      <td>6 дней</td>\n",
       "    </tr>\n",
       "    <tr>\n",
       "      <th>2</th>\n",
       "      <td>Санкт-Петербург</td>\n",
       "      <td>Сочи</td>\n",
       "      <td>247,50 ₽</td>\n",
       "      <td>6 дней</td>\n",
       "    </tr>\n",
       "    <tr>\n",
       "      <th>3</th>\n",
       "      <td>Санкт-Петербург</td>\n",
       "      <td>Киров</td>\n",
       "      <td>217,50 ₽</td>\n",
       "      <td>7 дней</td>\n",
       "    </tr>\n",
       "    <tr>\n",
       "      <th>4</th>\n",
       "      <td>Екатеринбург</td>\n",
       "      <td>Пенза</td>\n",
       "      <td>247,50 ₽</td>\n",
       "      <td>5 дней</td>\n",
       "    </tr>\n",
       "    <tr>\n",
       "      <th>5</th>\n",
       "      <td>Новосибирск</td>\n",
       "      <td>Ростов</td>\n",
       "      <td>247,50 ₽</td>\n",
       "      <td>6 дней</td>\n",
       "    </tr>\n",
       "    <tr>\n",
       "      <th>6</th>\n",
       "      <td>Иркутск</td>\n",
       "      <td>Лобня</td>\n",
       "      <td>247,50 ₽</td>\n",
       "      <td>11 дней</td>\n",
       "    </tr>\n",
       "    <tr>\n",
       "      <th>7</th>\n",
       "      <td>Краснодар</td>\n",
       "      <td>Пермь</td>\n",
       "      <td>342,50 ₽</td>\n",
       "      <td>7 дней</td>\n",
       "    </tr>\n",
       "  </tbody>\n",
       "</table>\n",
       "</div>"
      ],
      "text/plain": [
       "            Откуда    Куда      Цена    Сроки\n",
       "0           Москва  Самара  182,50 ₽    3 дня\n",
       "1           Москва    Чита  342,50 ₽   6 дней\n",
       "2  Санкт-Петербург    Сочи  247,50 ₽   6 дней\n",
       "3  Санкт-Петербург   Киров  217,50 ₽   7 дней\n",
       "4     Екатеринбург   Пенза  247,50 ₽   5 дней\n",
       "5      Новосибирск  Ростов  247,50 ₽   6 дней\n",
       "6          Иркутск   Лобня  247,50 ₽  11 дней\n",
       "7        Краснодар   Пермь  342,50 ₽   7 дней"
      ]
     },
     "execution_count": 4,
     "metadata": {},
     "output_type": "execute_result"
    }
   ],
   "source": [
    "boxberry_table = pd.read_html('https://boxberry.ru/castnym-klientam/dostavka/dostavka-posylok-rf', encoding='utf-8')[0]\n",
    "boxberry_table"
   ]
  },
  {
   "cell_type": "code",
   "execution_count": null,
   "metadata": {},
   "outputs": [],
   "source": []
  }
 ],
 "metadata": {
  "kernelspec": {
   "display_name": "Python 3",
   "language": "python",
   "name": "python3"
  },
  "language_info": {
   "codemirror_mode": {
    "name": "ipython",
    "version": 3
   },
   "file_extension": ".py",
   "mimetype": "text/x-python",
   "name": "python",
   "nbconvert_exporter": "python",
   "pygments_lexer": "ipython3",
   "version": "3.7.6"
  }
 },
 "nbformat": 4,
 "nbformat_minor": 4
}
