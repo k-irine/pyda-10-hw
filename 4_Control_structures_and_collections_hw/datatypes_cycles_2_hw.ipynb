{
 "cells": [
  {
   "cell_type": "markdown",
   "metadata": {},
   "source": [
    "**Задание 1**. Дан список с визитами по городам и странам. \n",
    "Напишите код, который возвращает отфильтрованный список geo_logs, содержащий только визиты из России."
   ]
  },
  {
   "cell_type": "code",
   "execution_count": 73,
   "metadata": {},
   "outputs": [
    {
     "name": "stdout",
     "output_type": "stream",
     "text": [
      "[dict_values([['Москва', 'Россия']]), dict_values([['Владимир', 'Россия']]), dict_values([['Тула', 'Россия']]), dict_values([['Тула', 'Россия']]), dict_values([['Курск', 'Россия']]), dict_values([['Архангельск', 'Россия']])]\n"
     ]
    }
   ],
   "source": [
    "geo_logs = [\n",
    "    {'visit1': ['Москва', 'Россия']},\n",
    "    {'visit2': ['Дели', 'Индия']},\n",
    "    {'visit3': ['Владимир', 'Россия']},\n",
    "    {'visit4': ['Лиссабон', 'Португалия']},\n",
    "    {'visit5': ['Париж', 'Франция']},\n",
    "    {'visit6': ['Лиссабон', 'Португалия']},\n",
    "    {'visit7': ['Тула', 'Россия']},\n",
    "    {'visit8': ['Тула', 'Россия']},\n",
    "    {'visit9': ['Курск', 'Россия']},\n",
    "    {'visit10': ['Архангельск', 'Россия']}\n",
    "]\n",
    "\n",
    "rus_geo_logs = [vizit.values() for vizit in geo_logs if list(vizit.values())[0][1]=='Россия']\n",
    "print(rus_geo_logs)\n",
    "\n",
    "#Подскажите, пожалуйста, как убрать эти dict_values в начале каждого значения?"
   ]
  },
  {
   "cell_type": "markdown",
   "metadata": {},
   "source": [
    "**Задание 2**. Выведите на экран все уникальные гео-ID из значений словаря ids. Т. е. список вида [213, 15, 54, 119, 98, 35]"
   ]
  },
  {
   "cell_type": "code",
   "execution_count": 21,
   "metadata": {},
   "outputs": [
    {
     "name": "stdout",
     "output_type": "stream",
     "text": [
      "[213, 15, 54, 119, 98, 35]\n"
     ]
    }
   ],
   "source": [
    "ids = {'user1': [213, 213, 213, 15, 213], \n",
    "       'user2': [54, 54, 119, 119, 119], \n",
    "       'user3': [213, 98, 98, 35]}\n",
    "\n",
    "unique_ids = []\n",
    "x=0\n",
    "\n",
    "for geo_id in ids.values():\n",
    "    for info in geo_id:\n",
    "        if info not in unique_ids:\n",
    "            unique_ids.append(info)\n",
    "print(unique_ids)           \n"
   ]
  },
  {
   "cell_type": "markdown",
   "metadata": {},
   "source": [
    "**Задание 3**. Дан список поисковых запросов. Получить распределение количества слов в них. \n",
    "Т. е. поисковых запросов из одного - слова 5%, из двух - 7%, из трех - 3% и т.д."
   ]
  },
  {
   "cell_type": "code",
   "execution_count": 39,
   "metadata": {},
   "outputs": [
    {
     "name": "stdout",
     "output_type": "stream",
     "text": [
      "Запросов из 2 слов: 42.86 процентов\n",
      "Запросов из 3 слов: 57.14 процентов\n"
     ]
    }
   ],
   "source": [
    "queries = [\n",
    "    'смотреть сериалы онлайн',\n",
    "    'новости спорта',\n",
    "    'афиша кино',\n",
    "    'курс доллара',\n",
    "    'сериалы этим летом',\n",
    "    'курс по питону',\n",
    "    'сериалы про спорт',\n",
    "]\n",
    "\n",
    "length_in_words = []\n",
    "unique_length = {}\n",
    "quantaty_queries = {}\n",
    "queries_length = len(queries)\n",
    "\n",
    "#print(queries_length)\n",
    "\n",
    "#str_queries = ', '.join(queries)\n",
    "#print(str_queries)\n",
    "\n",
    "for search_query in queries:\n",
    "    str_queries = search_query.split(' ')\n",
    "    length = (len(str_queries))\n",
    "    length_in_words.append(length)\n",
    "    unique_length = set(length_in_words)\n",
    "for x in unique_length:\n",
    "    percent = round((length_in_words.count(x))/queries_length*100,2)\n",
    "    #print(percent)    \n",
    "\n",
    "    print(f'Запросов из {x} слов: {percent} процентов')\n",
    "     \n",
    "        \n",
    "#y = length_in_words.count(x)\n",
    "#quantaty_queries\n",
    "#print(y)    \n",
    "#print(length_in_words)\n",
    "#print(unique_length)"
   ]
  },
  {
   "cell_type": "markdown",
   "metadata": {},
   "source": [
    "**Задание 4**. Дана статистика рекламных каналов по объемам продаж. Напишите скрипт, который возвращает название канала с максимальным объемом.\n",
    "Т. е. в данном примере скрипт должен возвращать 'yandex'."
   ]
  },
  {
   "cell_type": "code",
   "execution_count": 29,
   "metadata": {},
   "outputs": [
    {
     "name": "stdout",
     "output_type": "stream",
     "text": [
      "Канал с максимальным объёмом 120 посетителей - yandex\n"
     ]
    }
   ],
   "source": [
    "stats = {'facebook': 55, 'yandex': 120, 'vk': 115, 'google': 99, 'email': 42, 'ok': 98}\n",
    "\n",
    "amount_list = []\n",
    "for key, amount in stats.items():\n",
    "    #print(amount)\n",
    "    int_amount=int(amount)\n",
    "    #print(int_amount)\n",
    "    amount_list.append(int_amount)\n",
    "    #print(amount_list)\n",
    "top_source = max(amount_list)\n",
    "for key, amount in stats.items():\n",
    "    if amount == top_source:\n",
    "        print(f'Канал с максимальным объёмом {top_source} посетителей - {key}')\n",
    "        \n",
    "        "
   ]
  },
  {
   "cell_type": "markdown",
   "metadata": {},
   "source": [
    "**Задание 5**. Напишите код для преобразования произвольного списка вида ['2018-01-01', 'yandex', 'cpc', 100] (он может быть любой длины) в словарь {'2018-01-01': {'yandex': {'cpc': 100}}}"
   ]
  },
  {
   "cell_type": "code",
   "execution_count": 35,
   "metadata": {},
   "outputs": [
    {
     "name": "stdout",
     "output_type": "stream",
     "text": [
      "{'2018-01-01': {'yandex': {'cpc': 100}}}\n"
     ]
    }
   ],
   "source": [
    "slovar = {}\n",
    "spisok = ['2018-01-01', 'yandex', 'cpc', 100]\n",
    "spisok.reverse()\n",
    "\n",
    "\n",
    "slovar = {spisok[1]:spisok[0]}\n",
    "del(spisok[0:2])\n",
    "#print(spisok)\n",
    "#print(slovar)\n",
    "for x in spisok:\n",
    "    #print(x)\n",
    "    slovar = {x:slovar}\n",
    "print(slovar)"
   ]
  },
  {
   "cell_type": "code",
   "execution_count": null,
   "metadata": {},
   "outputs": [],
   "source": []
  }
 ],
 "metadata": {
  "kernelspec": {
   "display_name": "Python 3",
   "language": "python",
   "name": "python3"
  },
  "language_info": {
   "codemirror_mode": {
    "name": "ipython",
    "version": 3
   },
   "file_extension": ".py",
   "mimetype": "text/x-python",
   "name": "python",
   "nbconvert_exporter": "python",
   "pygments_lexer": "ipython3",
   "version": "3.7.6"
  }
 },
 "nbformat": 4,
 "nbformat_minor": 2
}
